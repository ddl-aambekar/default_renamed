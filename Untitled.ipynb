{
 "cells": [
  {
   "cell_type": "code",
   "execution_count": 1,
   "metadata": {
    "execution": {
     "iopub.execute_input": "2022-01-27T00:04:54.970339Z",
     "iopub.status.busy": "2022-01-27T00:04:54.969900Z",
     "iopub.status.idle": "2022-01-27T00:04:54.971651Z",
     "shell.execute_reply": "2022-01-27T00:04:54.972013Z"
    }
   },
   "outputs": [],
   "source": [
    "a = \"MIIDqjCCApKgAwIBAgIGAWEGeMvgMA0GCSqGSIb3DQEBCwUAMIGVMQswCQYDVQQGEwJVUzETMBEGA1UECAwKQ2FsaWZvcm5pYTEWMBQGA1UEBwwNU2FuIEZyYW5jaXNjbzENMAsGA1UECgwET2t0YTEUMBIGA1UECwwLU1NPUHJvdmlkZXIxFjAUBgNVBAMMDWRvbWlub2RhdGFsYWIxHDAaBgkqhkiG9w0BCQEWDWluZm9Ab2t0YS5jb20wHhcNMTgwMTE3MjMzMjU1WhcNMjgwMTE3MjMzMzU1WjCBlTELMAkGA1UEBhMCVVMxEzARBgNVBAgMCkNhbGlmb3JuaWExFjAUBgNVBAcMDVNhbiBGcmFuY2lzY28xDTALBgNVBAoMBE9rdGExFDASBgNVBAsMC1NTT1Byb3ZpZGVyMRYwFAYDVQQDDA1kb21pbm9kYXRhbGFiMRwwGgYJKoZIhvcNAQkBFg1pbmZvQG9rdGEuY29tMIIBIjANBgkqhkiG9w0BAQEFAAOCAQ8AMIIBCgKCAQEAiKW43x/5EUJ0WFp5hAtMAinbjXwXJ0TxZ/FZJ5QWdKyhILtbTWbsDecNj8TZabmx6l6wgCYpmr3ZivupoRkjzI6its71+2rTk/umwIB3FtUbDdcI/ooWJpz3n+oxIl5rGS/f8iwIaZALxHBCsJGXZtLADFboU/U+OhJGEiAhsaGzuEcddGUoRjCUBi3KCee/LbNxXOaGvVVpexIraZ7T/Nq04Ddsr1YufQ0w4GhPY4MP5YIuUXMcRbFqaVIsAkPpgP7Jj7CGeElzhNPI0JD/7C0znRy4rgi30uChvpuzj9hB3I1nh7tjfy5UIQyNVZBAK5CaPu/tAoY8RhhwVFn/AwIDAQABMA0GCSqGSIb3DQEBCwUAA4IBAQAvWeN0jehUKr0eVjjcKrhWGulRovJeKexjysys2/arh+56De6attigKddb9UDr9AvvoDCUw3pzpTNGut93rzjUG2bgHSQtmjDnAPG/fIYynbOePxmo+L3wqHEBuM7U5oG7Ahlra7NNZUeTkcelNJCbfJUJS9WR18miISUDMRnhdA4W0SR8h/fGWJ5Id44/j5T1cn+Qz018xpJ+G5iqWilvb72U/HmBxlQ5O+4YzmODt6tkQo5kmTG5xDG+epQOPaejQ93CSBxQRTwgIz8+NZRpPv6Fc7ioIzAOQ6NR1ylqT7tBXWl7T1Mwy3YNnkWDlOYCllrcnRe8ZTmPmgNh/y/5\""
   ]
  },
  {
   "cell_type": "code",
   "execution_count": 2,
   "metadata": {
    "execution": {
     "iopub.execute_input": "2022-01-27T00:04:54.980152Z",
     "iopub.status.busy": "2022-01-27T00:04:54.979557Z",
     "iopub.status.idle": "2022-01-27T00:04:54.982396Z",
     "shell.execute_reply": "2022-01-27T00:04:54.982784Z"
    }
   },
   "outputs": [
    {
     "data": {
      "text/plain": [
       "1256"
      ]
     },
     "execution_count": 1,
     "metadata": {},
     "output_type": "execute_result"
    }
   ],
   "source": [
    "len(a)"
   ]
  },
  {
   "cell_type": "code",
   "execution_count": 3,
   "metadata": {
    "execution": {
     "iopub.execute_input": "2022-01-27T00:04:54.985704Z",
     "iopub.status.busy": "2022-01-27T00:04:54.985136Z",
     "iopub.status.idle": "2022-01-27T00:04:54.987117Z",
     "shell.execute_reply": "2022-01-27T00:04:54.987478Z"
    }
   },
   "outputs": [],
   "source": [
    "b = \"MIIBIjANBgkqhkiG9w0BAQEFAAOCAQ8AMIIBCgKCAQEAndTvZYDuK/HdZUBcIP+VafErEOx1ecnEUvQYLQAZv3RaVTu9E98YdSYbZc5/J0gBq5XBpAnumd2mxFOruZe2XsOj7e5Y814+v5ZGpgpL3OCQA9Sy4t8gWC5xsz1H7aOCiKTRz1y6pENwEaH2vtzHiK9kEfiMyfubOqBqX3p1+VYX/SDmpFwaPL2i3SCyaisZshMSitiM/Ckyzj3XOR9SaXTokxhBJ4TPXgLwtJAQg3obbxq0CT2PV2s8becbCcRK1ujiiaBskQk/FUHFOucBeiISCiHj8S0aXgtvcOsAuUXsWTI7ILKPq8ArJUV8Fa5o7KYlHm4B02a8omkChEV30wIDAQAB\""
   ]
  },
  {
   "cell_type": "code",
   "execution_count": 4,
   "metadata": {
    "execution": {
     "iopub.execute_input": "2022-01-27T00:04:54.990559Z",
     "iopub.status.busy": "2022-01-27T00:04:54.989917Z",
     "iopub.status.idle": "2022-01-27T00:04:54.992299Z",
     "shell.execute_reply": "2022-01-27T00:04:54.992651Z"
    }
   },
   "outputs": [
    {
     "data": {
      "text/plain": [
       "392"
      ]
     },
     "execution_count": 1,
     "metadata": {},
     "output_type": "execute_result"
    }
   ],
   "source": [
    "len(b)"
   ]
  },
  {
   "cell_type": "code",
   "execution_count": null,
   "metadata": {},
   "outputs": [],
   "source": []
  }
 ],
 "metadata": {
  "kernelspec": {
   "display_name": "Python 3",
   "language": "python",
   "name": "python3"
  },
  "language_info": {
   "codemirror_mode": {
    "name": "ipython",
    "version": 3
   },
   "file_extension": ".py",
   "mimetype": "text/x-python",
   "name": "python",
   "nbconvert_exporter": "python",
   "pygments_lexer": "ipython3",
   "version": "3.8.5"
  }
 },
 "nbformat": 4,
 "nbformat_minor": 4
}
